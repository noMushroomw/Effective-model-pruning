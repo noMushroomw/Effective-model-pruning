{
 "cells": [
  {
   "cell_type": "code",
   "execution_count": 1,
   "id": "e5b4b483",
   "metadata": {},
   "outputs": [
    {
     "name": "stdout",
     "output_type": "stream",
     "text": [
      "Using device: cuda\n"
     ]
    }
   ],
   "source": [
    "import numpy as np\n",
    "import torch\n",
    "import torch.nn as nn\n",
    "import torch.nn.functional as F\n",
    "from torch.utils.data import Dataset, DataLoader\n",
    "import matplotlib.pyplot as plt\n",
    "from sklearn.datasets import make_moons, make_classification\n",
    "from sklearn.model_selection import train_test_split\n",
    "from sklearn.metrics import accuracy_score\n",
    "import copy\n",
    "\n",
    "from kan import KAN as pyKan\n",
    "device = torch.device('cuda' if torch.cuda.is_available() else 'cpu')\n",
    "print(f\"Using device: {device}\")\n"
   ]
  },
  {
   "cell_type": "code",
   "execution_count": 1,
   "id": "573d59f6",
   "metadata": {},
   "outputs": [
    {
     "name": "stdout",
     "output_type": "stream",
     "text": [
      "Device: cuda\n",
      "checkpoint directory created: ./model\n",
      "saving model version 0.0\n"
     ]
    },
    {
     "name": "stderr",
     "output_type": "stream",
     "text": [
      "| train_loss: 9.87e-03 | test_loss: 1.07e+00 | reg: 2.60e+01 | : 100%|█| 300/300 [00:57<00:00,  5.20\n"
     ]
    },
    {
     "name": "stdout",
     "output_type": "stream",
     "text": [
      "saving model version 0.1\n",
      "saving model version 0.2\n",
      "=== Single-run report (beta=1.0) ===\n",
      "beta: 1.0\n",
      "width_before: [[10, 0], [16, 0], [1, 0]]\n",
      "width_after: [[10, 0], [10, 0], [1, 0]]\n",
      "train_mse_before: 9.751252946443856e-05\n",
      "train_mse_after: 0.107933409512043\n",
      "test_mse_before: 1.139122724533081\n",
      "test_mse_after: 1.2132433652877808\n",
      "\n",
      "=== Beta sweep ===\n",
      "checkpoint directory created: ./model\n",
      "saving model version 0.0\n"
     ]
    },
    {
     "name": "stderr",
     "output_type": "stream",
     "text": [
      "| train_loss: 9.87e-03 | test_loss: 1.07e+00 | reg: 2.60e+01 | : 100%|█| 300/300 [00:56<00:00,  5.33\n"
     ]
    },
    {
     "name": "stdout",
     "output_type": "stream",
     "text": [
      "saving model version 0.1\n",
      "saving model version 0.2\n",
      "beta=0.500 | pre_width=[[10, 0], [16, 0], [1, 0]] -> post_width=[[10, 0], [5, 0], [1, 0]] | test MSE 1.1391 -> 1.3921\n",
      "checkpoint directory created: ./model\n",
      "saving model version 0.0\n"
     ]
    },
    {
     "name": "stderr",
     "output_type": "stream",
     "text": [
      "| train_loss: 9.87e-03 | test_loss: 1.07e+00 | reg: 2.60e+01 | : 100%|█| 300/300 [00:56<00:00,  5.31\n"
     ]
    },
    {
     "name": "stdout",
     "output_type": "stream",
     "text": [
      "saving model version 0.1\n",
      "saving model version 0.2\n",
      "beta=0.667 | pre_width=[[10, 0], [16, 0], [1, 0]] -> post_width=[[10, 0], [6, 0], [1, 0]] | test MSE 1.1391 -> 1.3682\n",
      "checkpoint directory created: ./model\n",
      "saving model version 0.0\n"
     ]
    },
    {
     "name": "stderr",
     "output_type": "stream",
     "text": [
      "| train_loss: 9.87e-03 | test_loss: 1.07e+00 | reg: 2.60e+01 | : 100%|█| 300/300 [00:56<00:00,  5.34\n"
     ]
    },
    {
     "name": "stdout",
     "output_type": "stream",
     "text": [
      "saving model version 0.1\n",
      "saving model version 0.2\n",
      "beta=0.750 | pre_width=[[10, 0], [16, 0], [1, 0]] -> post_width=[[10, 0], [7, 0], [1, 0]] | test MSE 1.1391 -> 1.8089\n",
      "checkpoint directory created: ./model\n",
      "saving model version 0.0\n"
     ]
    },
    {
     "name": "stderr",
     "output_type": "stream",
     "text": [
      "| train_loss: 9.87e-03 | test_loss: 1.07e+00 | reg: 2.60e+01 | : 100%|█| 300/300 [00:56<00:00,  5.35\n"
     ]
    },
    {
     "name": "stdout",
     "output_type": "stream",
     "text": [
      "saving model version 0.1\n",
      "saving model version 0.2\n",
      "beta=0.800 | pre_width=[[10, 0], [16, 0], [1, 0]] -> post_width=[[10, 0], [8, 0], [1, 0]] | test MSE 1.1391 -> 1.5436\n",
      "checkpoint directory created: ./model\n",
      "saving model version 0.0\n"
     ]
    },
    {
     "name": "stderr",
     "output_type": "stream",
     "text": [
      "| train_loss: 9.87e-03 | test_loss: 1.07e+00 | reg: 2.60e+01 | : 100%|█| 300/300 [00:56<00:00,  5.33\n"
     ]
    },
    {
     "name": "stdout",
     "output_type": "stream",
     "text": [
      "saving model version 0.1\n",
      "saving model version 0.2\n",
      "beta=1.000 | pre_width=[[10, 0], [16, 0], [1, 0]] -> post_width=[[10, 0], [10, 0], [1, 0]] | test MSE 1.1391 -> 1.2132\n",
      "checkpoint directory created: ./model\n",
      "saving model version 0.0\n"
     ]
    },
    {
     "name": "stderr",
     "output_type": "stream",
     "text": [
      "| train_loss: 9.87e-03 | test_loss: 1.07e+00 | reg: 2.60e+01 | : 100%|█| 300/300 [00:56<00:00,  5.31\n"
     ]
    },
    {
     "name": "stdout",
     "output_type": "stream",
     "text": [
      "saving model version 0.1\n",
      "saving model version 0.2\n",
      "beta=1.250 | pre_width=[[10, 0], [16, 0], [1, 0]] -> post_width=[[10, 0], [12, 0], [1, 0]] | test MSE 1.1391 -> 1.1409\n",
      "checkpoint directory created: ./model\n",
      "saving model version 0.0\n"
     ]
    },
    {
     "name": "stderr",
     "output_type": "stream",
     "text": [
      "| train_loss: 8.54e-03 | test_loss: 1.15e+00 | reg: 2.56e+01 | : 100%|█| 300/300 [00:58<00:00,  5.13\n"
     ]
    },
    {
     "name": "stdout",
     "output_type": "stream",
     "text": [
      "saving model version 0.1\n",
      "saving model version 0.2\n",
      "beta=1.333 | pre_width=[[10, 0], [16, 0], [1, 0]] -> post_width=[[10, 0], [12, 0], [1, 0]] | test MSE 1.3215 -> 1.3377\n",
      "checkpoint directory created: ./model\n",
      "saving model version 0.0\n"
     ]
    },
    {
     "name": "stderr",
     "output_type": "stream",
     "text": [
      "| train_loss: 8.54e-03 | test_loss: 1.15e+00 | reg: 2.56e+01 | : 100%|█| 300/300 [00:57<00:00,  5.21\n"
     ]
    },
    {
     "name": "stdout",
     "output_type": "stream",
     "text": [
      "saving model version 0.1\n",
      "saving model version 0.2\n",
      "beta=1.500 | pre_width=[[10, 0], [16, 0], [1, 0]] -> post_width=[[10, 0], [13, 0], [1, 0]] | test MSE 1.3215 -> 1.3224\n",
      "checkpoint directory created: ./model\n",
      "saving model version 0.0\n"
     ]
    },
    {
     "name": "stderr",
     "output_type": "stream",
     "text": [
      "| train_loss: 8.54e-03 | test_loss: 1.15e+00 | reg: 2.56e+01 | : 100%|█| 300/300 [00:55<00:00,  5.42"
     ]
    },
    {
     "name": "stdout",
     "output_type": "stream",
     "text": [
      "saving model version 0.1\n",
      "saving model version 0.2\n",
      "beta=2.000 | pre_width=[[10, 0], [16, 0], [1, 0]] -> post_width=[[10, 0], [16, 0], [1, 0]] | test MSE 1.3215 -> 1.3215\n"
     ]
    },
    {
     "name": "stderr",
     "output_type": "stream",
     "text": [
      "\n"
     ]
    }
   ],
   "source": [
    "# kan_neff_prune.py\n",
    "import math\n",
    "import numpy as np\n",
    "import torch\n",
    "from sklearn.datasets import load_diabetes\n",
    "from sklearn.model_selection import train_test_split\n",
    "from sklearn.preprocessing import StandardScaler\n",
    "\n",
    "# ---- KAN imports (official library) ----\n",
    "#   Docs: https://kindxiaoming.github.io/pykan/\n",
    "from kan import KAN\n",
    "from kan.utils import create_dataset_from_data\n",
    "\n",
    "# -------------------------------\n",
    "# Utility: Neff from a score vector\n",
    "# -------------------------------\n",
    "def neff_topk_indices(scores: torch.Tensor, beta: float = 1.0, min_keep: int = 1):\n",
    "    \"\"\"\n",
    "    scores: 1D tensor of nonnegative node importances for a layer\n",
    "    returns: indices of top floor(beta * Neff) elements\n",
    "    \"\"\"\n",
    "    s = scores.clone()\n",
    "    \n",
    "    if torch.all(s == 0):\n",
    "        # fallback: keep min_keep\n",
    "        k = min(min_keep, s.numel())\n",
    "        return torch.topk(s, k, largest=True).indices\n",
    "    \n",
    "    abs_s = torch.abs(s)\n",
    "    s_norm = abs_s / (abs_s.sum() + 1e-12)\n",
    "    neff = 1.0 / (torch.sum(s_norm ** 2) + 1e-12)\n",
    "    k = int(torch.floor(beta * neff).item())\n",
    "    k = max(min_keep, min(k, s.numel()))\n",
    "    return torch.topk(s, k, largest=True).indices\n",
    "\n",
    "# -----------------------------------------\n",
    "# Compute incoming/outgoing node scores\n",
    "# -----------------------------------------\n",
    "@torch.no_grad()\n",
    "def node_scores_in_out(model: KAN, device: torch.device):\n",
    "    \"\"\"\n",
    "    Returns a list (for each hidden layer) of tuples (scores, width)\n",
    "    where scores[i] = min(incoming[i], outgoing[i]) for neuron i in that layer.\n",
    "    \"\"\"\n",
    "    # Make sure attribution scores are computed\n",
    "    model.attribute(plot=False)  # populates model.edge_scores / node_scores internally\n",
    "\n",
    "    # edge_scores[l] is a 2D tensor of shape [out_dim_l, in_dim_l] for layer l\n",
    "    # Hidden layers are 1..L-2 (exclude input layer 0 and last output layer L-1)\n",
    "    L = len(model.width)\n",
    "    scores_per_layer = []\n",
    "\n",
    "    # We must have edge scores for layers 0..L-2 (mappings 0->1, 1->2, ..., L-2->L-1)\n",
    "    edge_scores = [torch.as_tensor(es, device=device, dtype=torch.float32)\n",
    "                   for es in model.edge_scores]  # list length L-1\n",
    "\n",
    "    for l in range(1, L-1):  # hidden layers only\n",
    "        # Incoming to layer l: from l-1 -> l are the *rows* of edge_scores[l-1] indexed by neurons in layer l\n",
    "        # edge_scores[l-1] has shape [out=l_width, in=(l-1)_width]\n",
    "        E_prev = edge_scores[l-1]              # shape [width[l], width[l-1]]\n",
    "        incoming = E_prev.abs().max(dim=1).values  # max over incoming edges (across input dim) -> size [width[l]]\n",
    "\n",
    "        # Outgoing from layer l: from l -> l+1 are the *columns* of edge_scores[l] indexed by neurons in layer l\n",
    "        # edge_scores[l] has shape [width[l+1], width[l]]\n",
    "        E_this = edge_scores[l]                # shape [width[l+1], width[l]]\n",
    "        outgoing = E_this.abs().max(dim=0).values   # max over outgoing edges (across output dim) -> size [width[l]]\n",
    "\n",
    "        score = torch.minimum(incoming, outgoing)    # keep if both large (min proxy)\n",
    "        scores_per_layer.append((score, model.width[l]))\n",
    "    return scores_per_layer\n",
    "\n",
    "# -----------------------------------------------------------\n",
    "# Manual Neff-pruning of nodes using KAN's prune_node(..., mode=\"manual\")\n",
    "# -----------------------------------------------------------\n",
    "@torch.no_grad()\n",
    "def neff_prune_nodes(model: KAN, x_for_attr: torch.Tensor, beta: float = 1.0, device: str = \"cpu\"):\n",
    "    \"\"\"\n",
    "    Uses incoming/outgoing node scores to select top floor(beta * Neff) neurons per hidden layer,\n",
    "    then calls model.prune_node(mode=\"manual\", active_neurons_id=...).\n",
    "    Returns a NEW pruned model.\n",
    "    \"\"\"\n",
    "    device = torch.device(device)\n",
    "    # Ensure activations/scores are up-to-date\n",
    "    model(x_for_attr)\n",
    "    scores_per_layer = node_scores_in_out(model, device=device)\n",
    "\n",
    "    # Build active id list per hidden layer. active_neurons_id is a list of per-layer id lists.\n",
    "    active_neurons_id = []\n",
    "    for (scores, width_l) in scores_per_layer:\n",
    "        keep_idx = neff_topk_indices(scores, beta=beta, min_keep=1).tolist()\n",
    "        active_neurons_id.append(keep_idx)\n",
    "\n",
    "    # Call manual pruning\n",
    "    pruned = model.prune_node(mode=\"manual\", active_neurons_id=active_neurons_id)\n",
    "    return pruned\n",
    "\n",
    "# -------------------------------\n",
    "# Simple evaluation (MSE)\n",
    "# -------------------------------\n",
    "@torch.no_grad()\n",
    "def mse(model: KAN, x: torch.Tensor, y: torch.Tensor) -> float:\n",
    "    pred = model(x)\n",
    "    return torch.mean((pred - y) ** 2).item()\n",
    "\n",
    "# -------------------------------\n",
    "# Train + prune + report\n",
    "# -------------------------------\n",
    "def run_diabetes(beta=1.0, seed=0, device=\"cuda\", steps=300, grid=5, k=3, hidden=16, lamb=1e-3):\n",
    "    torch.manual_seed(seed)\n",
    "    np.random.seed(seed)\n",
    "\n",
    "    # ---- Data ----\n",
    "    X, y = load_diabetes(return_X_y=True)  # (442, 10), regression\n",
    "    y = y.reshape(-1, 1)\n",
    "\n",
    "    Xtr, Xte, ytr, yte = train_test_split(X, y, test_size=0.2, random_state=seed)\n",
    "    x_scaler = StandardScaler().fit(Xtr)\n",
    "    y_scaler = StandardScaler().fit(ytr)\n",
    "\n",
    "    Xtr = x_scaler.transform(Xtr).astype(np.float32)\n",
    "    Xte = x_scaler.transform(Xte).astype(np.float32)\n",
    "    ytr = y_scaler.transform(ytr).astype(np.float32)\n",
    "    yte = y_scaler.transform(yte).astype(np.float32)\n",
    "\n",
    "    xtr_t = torch.from_numpy(Xtr).to(device)\n",
    "    xte_t = torch.from_numpy(Xte).to(device)\n",
    "    ytr_t = torch.from_numpy(ytr).to(device)\n",
    "    yte_t = torch.from_numpy(yte).to(device)\n",
    "\n",
    "    dataset = {\n",
    "        \"train_input\": xtr_t, \"train_label\": ytr_t,\n",
    "        \"test_input\":  xte_t, \"test_label\":  yte_t\n",
    "    }\n",
    "\n",
    "\n",
    "    # ---- Model ----\n",
    "    in_dim = Xtr.shape[1]\n",
    "    width = [in_dim, hidden, 1]  # one hidden layer for demo\n",
    "    model = KAN(width=width, grid=grid, k=k, seed=seed, device=device)\n",
    "    # Tip from authors: if you won't use symbolic branch and want custom loops, call model.speed()\n",
    "    # We use model.fit() here (built-in). :contentReference[oaicite:4]{index=4}\n",
    "\n",
    "    # ---- Train (with mild sparsity) ----\n",
    "    model.fit(dataset, opt=\"LBFGS\", steps=steps, lamb=lamb)  # adds L1+entropy regularization under the hood :contentReference[oaicite:5]{index=5}\n",
    "\n",
    "    # ---- Evaluate before pruning ----\n",
    "    pre_train_mse = mse(model, xtr_t, ytr_t)\n",
    "    pre_test_mse  = mse(model, xte_t, yte_t)\n",
    "    pre_widths = model.width.copy()\n",
    "\n",
    "    # ---- Neff pruning on nodes (incoming/outgoing) ----\n",
    "    # Use training inputs for attribution; could also use full dataset\n",
    "    pruned = neff_prune_nodes(model, x_for_attr=xtr_t, beta=beta, device=device)\n",
    "\n",
    "    # ---- Evaluate after pruning ----\n",
    "    post_train_mse = mse(pruned, xtr_t, ytr_t)\n",
    "    post_test_mse  = mse(pruned, xte_t, yte_t)\n",
    "    post_widths = pruned.width.copy()\n",
    "\n",
    "    # ---- Report ----\n",
    "    report = {\n",
    "        \"beta\": beta,\n",
    "        \"width_before\": pre_widths,\n",
    "        \"width_after\": post_widths,\n",
    "        \"train_mse_before\": pre_train_mse,\n",
    "        \"train_mse_after\": post_train_mse,\n",
    "        \"test_mse_before\": pre_test_mse,\n",
    "        \"test_mse_after\": post_test_mse,\n",
    "    }\n",
    "    return report\n",
    "\n",
    "if __name__ == \"__main__\":\n",
    "    device = \"cuda\" if torch.cuda.is_available() else \"cpu\"\n",
    "    print(f\"Device: {device}\")\n",
    "    # Single run\n",
    "    rep = run_diabetes(beta=1.0, device=device)\n",
    "    print(\"=== Single-run report (beta=1.0) ===\")\n",
    "    for k, v in rep.items():\n",
    "        print(f\"{k}: {v}\")\n",
    "\n",
    "    # Optional: sweep beta\n",
    "    betas = [0.5, 2/3, 0.75, 0.8, 1.0, 5/4, 4/3, 1.5, 2.0]\n",
    "    print(\"\\n=== Beta sweep ===\")\n",
    "    for b in betas:\n",
    "        r = run_diabetes(beta=b, device=device)\n",
    "        print(f\"beta={b:.3f} | pre_width={r['width_before']} -> post_width={r['width_after']} | \"\n",
    "              f\"test MSE {r['test_mse_before']:.4f} -> {r['test_mse_after']:.4f}\")\n"
   ]
  },
  {
   "cell_type": "code",
   "execution_count": null,
   "id": "db333f24",
   "metadata": {},
   "outputs": [],
   "source": []
  }
 ],
 "metadata": {
  "kernelspec": {
   "display_name": "llm",
   "language": "python",
   "name": "python3"
  },
  "language_info": {
   "codemirror_mode": {
    "name": "ipython",
    "version": 3
   },
   "file_extension": ".py",
   "mimetype": "text/x-python",
   "name": "python",
   "nbconvert_exporter": "python",
   "pygments_lexer": "ipython3",
   "version": "3.10.18"
  }
 },
 "nbformat": 4,
 "nbformat_minor": 5
}
